{
 "cells": [
  {
   "cell_type": "markdown",
   "id": "0b933eac-32c6-4370-bb3f-595daadaa2cc",
   "metadata": {},
   "source": [
    "## Model Loss Optimizer"
   ]
  },
  {
   "cell_type": "code",
   "execution_count": 1,
   "id": "dcdf87cb-d24b-400c-a284-ff8f080f8b96",
   "metadata": {},
   "outputs": [],
   "source": [
    "import torch"
   ]
  },
  {
   "cell_type": "markdown",
   "id": "d8039fe8-6c3d-44f3-bc76-37fcd75655ef",
   "metadata": {},
   "source": [
    "A typical PyTorch pipeline looks like this : \n",
    "**1.** Design model (input,output, froward pass with different layers)\n",
    "**2.** Constuct loss and optimizer\n",
    "**3.** Training loop : *forward = compute prediction and loss*\n",
    "*Backward = compute gradients*\n",
    "*Update weights*"
   ]
  },
  {
   "cell_type": "code",
   "execution_count": 2,
   "id": "f8d1a24d-cb49-4668-8dd9-251e528c11d2",
   "metadata": {},
   "outputs": [],
   "source": [
    "import torch.nn as nn"
   ]
  },
  {
   "cell_type": "code",
   "execution_count": 5,
   "id": "f88dab8e-55d5-4504-9944-c3d59f5c01b6",
   "metadata": {},
   "outputs": [
    {
     "name": "stdout",
     "output_type": "stream",
     "text": [
      "n_samples = 8,n_features = 1\n"
     ]
    }
   ],
   "source": [
    "#Linear regression\n",
    "\n",
    "X = torch.tensor([[1],[2],[3],[4],[5],[6],[7],[8]],dtype=torch.float32)\n",
    "Y = torch.tensor([[2],[4],[6],[8],[10],[12],[14],[16]],dtype=torch.float32)\n",
    "\n",
    "n_samples,n_features = X.shape\n",
    "print(f'n_samples = {n_samples},n_features = {n_features}')"
   ]
  },
  {
   "cell_type": "code",
   "execution_count": 7,
   "id": "dc0b5225-88c1-4e73-afeb-4bc2d2a11488",
   "metadata": {},
   "outputs": [],
   "source": [
    "X_test = torch.tensor([5], dtype=torch.float32)"
   ]
  },
  {
   "cell_type": "code",
   "execution_count": 10,
   "id": "d250e1f6-2080-4664-b746-08c8c5266b20",
   "metadata": {},
   "outputs": [
    {
     "name": "stdout",
     "output_type": "stream",
     "text": [
      "Prediction before training : f(5.0) = -3.065\n",
      "epoch 10 :w =  1.8179880380630493  loss =  0.21417337656021118\n",
      "epoch 20 :w =  1.8265246152877808  loss =  0.19746890664100647\n",
      "epoch 30 :w =  1.8333280086517334  loss =  0.18228565156459808\n",
      "epoch 40 :w =  1.839863896369934  loss =  0.16826976835727692\n",
      "epoch 50 :w =  1.846143364906311  loss =  0.15533143281936646\n",
      "epoch 60 :w =  1.8521767854690552  loss =  0.14338812232017517\n",
      "epoch 70 :w =  1.8579734563827515  loss =  0.1323629915714264\n",
      "epoch 80 :w =  1.8635427951812744  loss =  0.12218568474054337\n",
      "epoch 90 :w =  1.8688937425613403  loss =  0.1127907931804657\n",
      "epoch 100 :w =  1.8740350008010864  loss =  0.10411842167377472\n",
      "Prediction after training : f(5.0) = 10.078\n"
     ]
    }
   ],
   "source": [
    "#1) Design model, the model has to mplement the forward pass :\n",
    "class LinearRegression(nn.Module):\n",
    "    def __init__(self,input_dim,output_dim):\n",
    "        super(LinearRegression, self).__init__()\n",
    "        #define different layers\n",
    "        self.lin = nn.Linear(input_dim,output_dim)\n",
    "\n",
    "    def forward(self, x):\n",
    "        return self.lin(x)\n",
    "\n",
    "input_size , output_size = n_features,n_features\n",
    "\n",
    "model = LinearRegression(input_size,output_size)\n",
    "\n",
    "print(f'Prediction before training : f({X_test.item()}) = {model(X_test).item():.3f}')\n",
    "\n",
    "#2) Define loss and optimizer\n",
    "lr = 0.01\n",
    "n_epochs = 100\n",
    "\n",
    "loss = nn.MSELoss()\n",
    "optimizer = torch.optim.SGD(model.parameters(),lr=lr)\n",
    "\n",
    "#3) Trining loop\n",
    "for epoch in range(n_epochs):\n",
    "    #predict = forward pass with our model\n",
    "    y_predicted = model(X)\n",
    "    #loss\n",
    "    l = loss(Y,y_predicted)\n",
    "    #calculate gradients = backward pass\n",
    "    l.backward()\n",
    "    optimizer.step()\n",
    "    optimizer.zero_grad()\n",
    "\n",
    "    if (epoch+1)%10 == 0:\n",
    "        w,b = model.parameters() #upack parameters\n",
    "        print('epoch',epoch+1,':w = ',w[0][0].item(),' loss = ',l.item())\n",
    "\n",
    "print(f'Prediction after training : f({X_test.item()}) = {model(X_test).item():.3f}')"
   ]
  },
  {
   "cell_type": "code",
   "execution_count": null,
   "id": "770f8428-2525-4b78-98b4-827673b1efb2",
   "metadata": {},
   "outputs": [],
   "source": []
  }
 ],
 "metadata": {
  "kernelspec": {
   "display_name": "Python 3 (ipykernel)",
   "language": "python",
   "name": "python3"
  },
  "language_info": {
   "codemirror_mode": {
    "name": "ipython",
    "version": 3
   },
   "file_extension": ".py",
   "mimetype": "text/x-python",
   "name": "python",
   "nbconvert_exporter": "python",
   "pygments_lexer": "ipython3",
   "version": "3.12.3"
  }
 },
 "nbformat": 4,
 "nbformat_minor": 5
}
