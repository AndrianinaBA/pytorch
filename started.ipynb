{
 "cells": [
  {
   "cell_type": "code",
   "execution_count": 1,
   "id": "d3f5053d-0418-464a-afb8-722622e1b9ac",
   "metadata": {},
   "outputs": [],
   "source": [
    "import torch"
   ]
  },
  {
   "cell_type": "markdown",
   "id": "2cee940e-0607-46b7-bf0f-9ee9dad21581",
   "metadata": {},
   "source": [
    "Tensors : is a multidimensional matrix containing elements of a single data type"
   ]
  },
  {
   "cell_type": "code",
   "execution_count": 2,
   "id": "3a96dfda-4e69-4c09-8718-6c6d153f7c6d",
   "metadata": {},
   "outputs": [],
   "source": [
    "x = torch.empty(1)"
   ]
  },
  {
   "cell_type": "code",
   "execution_count": 3,
   "id": "640c0ac0-2081-4847-b6db-c2eb5329b8c2",
   "metadata": {},
   "outputs": [
    {
     "data": {
      "text/plain": [
       "tensor([-4.8218e-34])"
      ]
     },
     "execution_count": 3,
     "metadata": {},
     "output_type": "execute_result"
    }
   ],
   "source": [
    "x"
   ]
  },
  {
   "cell_type": "code",
   "execution_count": 4,
   "id": "38b3977e-b016-49ff-8d8a-a30015de1a45",
   "metadata": {},
   "outputs": [
    {
     "data": {
      "text/plain": [
       "tensor([1.0887e-36, 0.0000e+00, 0.0000e+00])"
      ]
     },
     "execution_count": 4,
     "metadata": {},
     "output_type": "execute_result"
    }
   ],
   "source": [
    "x = torch.empty(3)\n",
    "x"
   ]
  },
  {
   "cell_type": "code",
   "execution_count": 6,
   "id": "763e4471-39e9-4d0c-bfe9-4681618aaee5",
   "metadata": {},
   "outputs": [
    {
     "data": {
      "text/plain": [
       "tensor([[5.0876e-35, 0.0000e+00, 0.0000e+00],\n",
       "        [0.0000e+00, 0.0000e+00, 0.0000e+00]])"
      ]
     },
     "execution_count": 6,
     "metadata": {},
     "output_type": "execute_result"
    }
   ],
   "source": [
    "x = torch.empty(2,3)\n",
    "x"
   ]
  },
  {
   "cell_type": "code",
   "execution_count": 7,
   "id": "342d34bb-0ecf-4f10-9e27-a2823c8adaa9",
   "metadata": {},
   "outputs": [
    {
     "data": {
      "text/plain": [
       "tensor([[[6.0721e-35, 0.0000e+00, 0.0000e+00],\n",
       "         [0.0000e+00,        nan, 0.0000e+00]],\n",
       "\n",
       "        [[7.3909e+22, 7.5555e+31, 7.0736e+31],\n",
       "         [1.7237e+25, 6.3828e+28, 3.8016e-39]]])"
      ]
     },
     "execution_count": 7,
     "metadata": {},
     "output_type": "execute_result"
    }
   ],
   "source": [
    "x = torch.empty(2,2,3)\n",
    "x"
   ]
  },
  {
   "cell_type": "code",
   "execution_count": 8,
   "id": "a7bfb4b7-45a2-4b04-98c6-8e230b78a8b8",
   "metadata": {},
   "outputs": [],
   "source": [
    "x = torch.rand(5,3)"
   ]
  },
  {
   "cell_type": "code",
   "execution_count": 9,
   "id": "eb3303a5-f1b1-4636-aec2-3621d85c9ccc",
   "metadata": {},
   "outputs": [
    {
     "data": {
      "text/plain": [
       "tensor([[0.5154, 0.4774, 0.4894],\n",
       "        [0.0191, 0.0964, 0.5016],\n",
       "        [0.0491, 0.8153, 0.2540],\n",
       "        [0.1086, 0.0603, 0.3366],\n",
       "        [0.9157, 0.3747, 0.4382]])"
      ]
     },
     "execution_count": 9,
     "metadata": {},
     "output_type": "execute_result"
    }
   ],
   "source": [
    "x"
   ]
  },
  {
   "cell_type": "code",
   "execution_count": 11,
   "id": "fa27a208-da1d-4cfc-b0fd-b39eef60a2c7",
   "metadata": {},
   "outputs": [
    {
     "data": {
      "text/plain": [
       "tensor([[0., 0., 0.],\n",
       "        [0., 0., 0.],\n",
       "        [0., 0., 0.],\n",
       "        [0., 0., 0.],\n",
       "        [0., 0., 0.]])"
      ]
     },
     "execution_count": 11,
     "metadata": {},
     "output_type": "execute_result"
    }
   ],
   "source": [
    "x = torch.zeros(5,3)\n",
    "x"
   ]
  },
  {
   "cell_type": "code",
   "execution_count": 13,
   "id": "d910269a-d334-46d0-9df8-898a03f352c0",
   "metadata": {},
   "outputs": [
    {
     "data": {
      "text/plain": [
       "(torch.Size([5, 3]), torch.Size([5, 3]))"
      ]
     },
     "execution_count": 13,
     "metadata": {},
     "output_type": "execute_result"
    }
   ],
   "source": [
    "x.size(),x.shape"
   ]
  },
  {
   "cell_type": "code",
   "execution_count": 14,
   "id": "269fc74d-a651-498f-a97b-3ab1f73decd4",
   "metadata": {},
   "outputs": [
    {
     "name": "stdout",
     "output_type": "stream",
     "text": [
      "torch.float32\n"
     ]
    }
   ],
   "source": [
    "print(x.dtype)"
   ]
  },
  {
   "cell_type": "code",
   "execution_count": 15,
   "id": "2d11fddf-e4fb-4688-97a7-2ce590f3d988",
   "metadata": {},
   "outputs": [],
   "source": [
    "x = torch.tensor([5,3])"
   ]
  },
  {
   "cell_type": "code",
   "execution_count": 16,
   "id": "e220c6e4-fa1c-42c4-a12a-e99b847f1a59",
   "metadata": {},
   "outputs": [
    {
     "data": {
      "text/plain": [
       "tensor([5, 3])"
      ]
     },
     "execution_count": 16,
     "metadata": {},
     "output_type": "execute_result"
    }
   ],
   "source": [
    "x"
   ]
  },
  {
   "cell_type": "code",
   "execution_count": 17,
   "id": "b82140c2-f618-4a44-930f-37be549d46e0",
   "metadata": {},
   "outputs": [
    {
     "data": {
      "text/plain": [
       "tensor([[1.7885, 1.1356],\n",
       "        [1.3158, 1.3617]])"
      ]
     },
     "execution_count": 17,
     "metadata": {},
     "output_type": "execute_result"
    }
   ],
   "source": [
    "x = torch.ones(2,2)\n",
    "y = torch.rand(2,2)\n",
    "z = x+y\n",
    "z"
   ]
  },
  {
   "cell_type": "code",
   "execution_count": 18,
   "id": "915c148e-499b-4318-890c-c7fbd9cc4596",
   "metadata": {},
   "outputs": [
    {
     "data": {
      "text/plain": [
       "tensor([[1.7885, 1.1356],\n",
       "        [1.3158, 1.3617]])"
      ]
     },
     "execution_count": 18,
     "metadata": {},
     "output_type": "execute_result"
    }
   ],
   "source": [
    "torch.add(x,y)"
   ]
  },
  {
   "cell_type": "code",
   "execution_count": 19,
   "id": "6e36a486-d13f-47dd-99bb-116717dc4baa",
   "metadata": {},
   "outputs": [
    {
     "data": {
      "text/plain": [
       "tensor([[1.7885, 1.1356],\n",
       "        [1.3158, 1.3617]])"
      ]
     },
     "execution_count": 19,
     "metadata": {},
     "output_type": "execute_result"
    }
   ],
   "source": [
    "y.add_(x)"
   ]
  },
  {
   "cell_type": "markdown",
   "id": "00c7b84f-06cf-42da-9814-e20427952ef4",
   "metadata": {},
   "source": [
    "We can also subtract, divide and multiply"
   ]
  },
  {
   "cell_type": "markdown",
   "id": "69433775-d81f-4d92-b6de-c6d326ffa49b",
   "metadata": {},
   "source": [
    "### Slicing"
   ]
  },
  {
   "cell_type": "code",
   "execution_count": 22,
   "id": "5c39446b-c7d7-412e-b399-9b0f46ae2052",
   "metadata": {},
   "outputs": [
    {
     "name": "stdout",
     "output_type": "stream",
     "text": [
      "tensor([[0.6153, 0.0887, 0.9963],\n",
      "        [0.4520, 0.0610, 0.3625],\n",
      "        [0.9038, 0.8513, 0.3795],\n",
      "        [0.8348, 0.1981, 0.9554],\n",
      "        [0.2034, 0.3508, 0.9294]])\n",
      "tensor([[0.6153, 0.9963],\n",
      "        [0.4520, 0.3625],\n",
      "        [0.9038, 0.3795]])\n"
     ]
    }
   ],
   "source": [
    "M = torch.rand(5,3)\n",
    "print(M)\n",
    "\n",
    "print(M[0:3,[0,2]])"
   ]
  },
  {
   "cell_type": "code",
   "execution_count": 23,
   "id": "eb7894df-d383-4cc7-a75e-61bf1e794710",
   "metadata": {},
   "outputs": [
    {
     "data": {
      "text/plain": [
       "0.0609668493270874"
      ]
     },
     "execution_count": 23,
     "metadata": {},
     "output_type": "execute_result"
    }
   ],
   "source": [
    "M[1,1].item()"
   ]
  },
  {
   "cell_type": "code",
   "execution_count": 24,
   "id": "8f9f2f1a-1aac-4f9b-8641-09a41f9b3835",
   "metadata": {},
   "outputs": [
    {
     "data": {
      "text/plain": [
       "tensor([[0.8596, 0.1970, 0.2749, 0.3691, 0.6849, 0.0684, 0.2905, 0.5946],\n",
       "        [0.7891, 0.1217, 0.1102, 0.4055, 0.1561, 0.3629, 0.7847, 0.6003]])"
      ]
     },
     "execution_count": 24,
     "metadata": {},
     "output_type": "execute_result"
    }
   ],
   "source": [
    "x = torch.rand(4,4)\n",
    "z = x.view(-1,8)\n",
    "z"
   ]
  },
  {
   "cell_type": "code",
   "execution_count": 25,
   "id": "22a0e363-2c4c-4989-aef9-7a9934c70017",
   "metadata": {},
   "outputs": [],
   "source": [
    "import numpy as np"
   ]
  },
  {
   "cell_type": "code",
   "execution_count": 26,
   "id": "2c293f72-164a-48db-ab5a-dd26108c349d",
   "metadata": {},
   "outputs": [],
   "source": [
    "a = torch.empty(5)\n",
    "b = a.numpy()"
   ]
  },
  {
   "cell_type": "code",
   "execution_count": 28,
   "id": "c55880a6-f59f-412b-a428-beb16f5e4e0b",
   "metadata": {},
   "outputs": [
    {
     "name": "stdout",
     "output_type": "stream",
     "text": [
      "tensor([6.1014e-35, 0.0000e+00, 0.0000e+00, 0.0000e+00, 0.0000e+00]) \n",
      " [6.1014074e-35 0.0000000e+00 0.0000000e+00 0.0000000e+00 0.0000000e+00]\n"
     ]
    }
   ],
   "source": [
    "print(a,\"\\n\",b)"
   ]
  },
  {
   "cell_type": "code",
   "execution_count": 30,
   "id": "9fb2a3a9-9341-4029-98c4-c2ffc1e35dfd",
   "metadata": {},
   "outputs": [
    {
     "name": "stdout",
     "output_type": "stream",
     "text": [
      "[1. 1. 1. 1. 1.] \n",
      " tensor([1., 1., 1., 1., 1.], dtype=torch.float64) \n",
      " tensor([1., 1., 1., 1., 1.], dtype=torch.float64)\n"
     ]
    }
   ],
   "source": [
    "a = np.ones(5)\n",
    "b = torch.from_numpy(a) #will share the same memory as a\n",
    "#SO that any modification on a will affect b\n",
    "c = torch.tensor(a)\n",
    "\n",
    "print(a,\"\\n\",b,\"\\n\",c)"
   ]
  },
  {
   "cell_type": "markdown",
   "id": "9cf33470-714f-45d7-bbb6-a7c528db7c4d",
   "metadata": {},
   "source": [
    "### GPU support"
   ]
  },
  {
   "cell_type": "code",
   "execution_count": 31,
   "id": "4f00c473-cce2-447e-87b4-bb1a0fe344f3",
   "metadata": {},
   "outputs": [],
   "source": [
    "device = torch.device('cuda' if torch.cuda.is_available() else 'cpu')"
   ]
  },
  {
   "cell_type": "code",
   "execution_count": 32,
   "id": "a2c0715b-d61e-4556-8342-96029a61e8a0",
   "metadata": {},
   "outputs": [
    {
     "data": {
      "text/plain": [
       "device(type='cpu')"
      ]
     },
     "execution_count": 32,
     "metadata": {},
     "output_type": "execute_result"
    }
   ],
   "source": [
    "device"
   ]
  },
  {
   "cell_type": "code",
   "execution_count": 33,
   "id": "0bbf8793-7679-47bb-91aa-9b48a8a451d0",
   "metadata": {},
   "outputs": [],
   "source": [
    "x = torch.empty(5).to(device)"
   ]
  },
  {
   "cell_type": "code",
   "execution_count": 34,
   "id": "731fce08-365b-45ab-a2ef-733839c0af91",
   "metadata": {},
   "outputs": [
    {
     "data": {
      "text/plain": [
       "tensor([6.1202e-35, 0.0000e+00, 0.0000e+00, 0.0000e+00, 0.0000e+00])"
      ]
     },
     "execution_count": 34,
     "metadata": {},
     "output_type": "execute_result"
    }
   ],
   "source": [
    "x"
   ]
  },
  {
   "cell_type": "markdown",
   "id": "bfd0839e-c0f5-47e2-9b84-c6689346aacf",
   "metadata": {},
   "source": [
    "## Autograd"
   ]
  },
  {
   "cell_type": "markdown",
   "id": "81c07462-6d22-485d-afb3-6c9df2886be0",
   "metadata": {},
   "source": [
    "The aurograde package provides automatic differentitation on all aperations on tensores. Generally speaking, torch.autograd is an engine for computing the vector Jacobian product. It computespartial derivatives while applying the chain rule."
   ]
  },
  {
   "cell_type": "code",
   "execution_count": null,
   "id": "06a537e9-cc63-4ddb-9bfa-cc89b785111c",
   "metadata": {},
   "outputs": [],
   "source": []
  }
 ],
 "metadata": {
  "kernelspec": {
   "display_name": "Python 3 (ipykernel)",
   "language": "python",
   "name": "python3"
  },
  "language_info": {
   "codemirror_mode": {
    "name": "ipython",
    "version": 3
   },
   "file_extension": ".py",
   "mimetype": "text/x-python",
   "name": "python",
   "nbconvert_exporter": "python",
   "pygments_lexer": "ipython3",
   "version": "3.12.3"
  }
 },
 "nbformat": 4,
 "nbformat_minor": 5
}
